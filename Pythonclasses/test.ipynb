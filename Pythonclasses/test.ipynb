{
 "cells": [
  {
   "cell_type": "code",
   "execution_count": 1,
   "metadata": {},
   "outputs": [
    {
     "name": "stdout",
     "output_type": "stream",
     "text": [
      "Goods has been added,\n",
      "Money has been added,\n",
      "Thanks for using our shopping site\n",
      "Here is your cart: \n",
      "-Goods\n",
      "-Money\n"
     ]
    }
   ],
   "source": [
    "# global list variable\n",
    "\n",
    "cart = []\n",
    "# create a function to add items to the cart\n",
    "def add_item(item):\n",
    "    cart.append(item)\n",
    "    print(f'{item} has been added,')\n",
    "\n",
    "# removing item\n",
    "def remove_item(item):\n",
    "    try:\n",
    "        cart.remove(item)\n",
    "        print(f'{item} has been removed.')\n",
    "    except:\n",
    "        print(\"sorry unknown item can't be removed\")\n",
    "\n",
    "# make a funtion to show item in the cart\n",
    "def show_cart():\n",
    "\n",
    "    if cart:\n",
    "        print('Here is your cart: ')\n",
    "        for item in cart:\n",
    "            print(f'-{item}')\n",
    "    else:\n",
    "        print('Your cart is empty.')\n",
    "\n",
    "# create a function to clear our cart\n",
    "def clear_cart():\n",
    "    cart.clear()\n",
    "    print('Your cart is empty ')\n",
    "\n",
    "# a function for our loop\n",
    "def body():\n",
    "    done = False\n",
    "    while not done :\n",
    "        ans = input('QUIT/ ADD/ REMOVE/ SHOW/ CLEAR:  ').lower()\n",
    "\n",
    "        if ans == 'quit':\n",
    "            print('Thanks for using our shopping site')\n",
    "            show_cart()\n",
    "            done = True\n",
    "\n",
    "        elif ans == 'add': #used the add_item function here\n",
    "            item = input('what would you like to add to your cart?:  ').title()\n",
    "            add_item(item)\n",
    "\n",
    "        elif ans == 'remove':\n",
    "            show_cart()# show_cart function here\n",
    "            item = input('what would you like to remove?: ').title()\n",
    "            remove_item(item) # remove_item function here\n",
    "\n",
    "        elif ans == 'show':\n",
    "            show_cart() # the show cart function here\n",
    "\n",
    "        elif ans == 'clear':\n",
    "            clear_cart() # clear cart function here\n",
    "        else:\n",
    "            print('Sorry that was not an option') # when input wrong option\n",
    "body()# closing of the body function\n",
    "\n"
   ]
  }
 ],
 "metadata": {
  "kernelspec": {
   "display_name": "Python 3",
   "language": "python",
   "name": "python3"
  },
  "language_info": {
   "codemirror_mode": {
    "name": "ipython",
    "version": 3
   },
   "file_extension": ".py",
   "mimetype": "text/x-python",
   "name": "python",
   "nbconvert_exporter": "python",
   "pygments_lexer": "ipython3",
   "version": "3.13.2"
  }
 },
 "nbformat": 4,
 "nbformat_minor": 2
}
